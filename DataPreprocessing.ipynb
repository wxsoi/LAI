{
 "cells": [
  {
   "cell_type": "code",
   "execution_count": 5,
   "metadata": {
    "collapsed": true
   },
   "outputs": [
    {
     "name": "stderr",
     "output_type": "stream",
     "text": [
      "F:\\MachineLearning\\anaconda3\\lib\\site-packages\\matplotlib\\projections\\__init__.py:63: UserWarning: Unable to import Axes3D. This may be due to multiple versions of Matplotlib being installed (e.g. as a system package and as a pip package). As a result, the 3D projection is not available.\n",
      "  warnings.warn(\"Unable to import Axes3D. This may be due to multiple versions of \"\n"
     ]
    }
   ],
   "source": [
    "import numpy as np\n",
    "import pandas as pd\n",
    "import matplotlib.pyplot as plt\n"
   ]
  },
  {
   "cell_type": "code",
   "execution_count": 3,
   "outputs": [
    {
     "name": "stdout",
     "output_type": "stream",
     "text": [
      "<class 'pandas.core.frame.DataFrame'>\n",
      "RangeIndex: 57231 entries, 0 to 57230\n",
      "Data columns (total 3 columns):\n",
      " #   Column             Non-Null Count  Dtype \n",
      "---  ------             --------------  ----- \n",
      " 0   author_ID          57231 non-null  object\n",
      " 1   post               57231 non-null  object\n",
      " 2   political_leaning  57231 non-null  object\n",
      "dtypes: object(3)\n",
      "memory usage: 1.3+ MB\n"
     ]
    }
   ],
   "source": [
    "df = pd.read_csv(\"./data/political_leaning.csv\")\n",
    "df.rename(columns={'auhtor_ID': 'author_ID'}, inplace=True)\n",
    "df.info()"
   ],
   "metadata": {
    "collapsed": false
   }
  },
  {
   "cell_type": "code",
   "execution_count": 22,
   "outputs": [
    {
     "name": "stdout",
     "output_type": "stream",
     "text": [
      "political_leaning\n",
      "center    0.440338\n",
      "right     0.304975\n",
      "left      0.254687\n",
      "Name: proportion, dtype: float64\n"
     ]
    }
   ],
   "source": [
    "print(df['political_leaning'].value_counts(normalize=True))"
   ],
   "metadata": {
    "collapsed": false
   }
  },
  {
   "cell_type": "code",
   "execution_count": 7,
   "outputs": [
    {
     "data": {
      "text/plain": "<Figure size 1000x600 with 1 Axes>",
      "image/png": "[encoded data removed]"
     },
     "metadata": {},
     "output_type": "display_data"
    }
   ],
   "source": [
    "post_counts = df.groupby('author_ID').size().sort_values(ascending=False)\n",
    "plt.figure(figsize=(10, 6))\n",
    "post_counts.plot(kind='bar', color='skyblue', edgecolor='black')\n",
    "plt.title('Number of Posts per User')\n",
    "plt.xlabel('Author ID')\n",
    "plt.ylabel('Number of Posts')\n",
    "plt.xticks(rotation=0)\n",
    "plt.show()"
   ],
   "metadata": {
    "collapsed": false
   }
  },
  {
   "cell_type": "code",
   "execution_count": 8,
   "outputs": [
    {
     "name": "stdout",
     "output_type": "stream",
     "text": [
      "95th Percentile of Posts per User: 97.0\n"
     ]
    }
   ],
   "source": [
    "percentile_95 = np.percentile(post_counts, 95)\n",
    "print(f\"95th Percentile of Posts per User: {percentile_95}\")"
   ],
   "metadata": {
    "collapsed": false
   }
  },
  {
   "cell_type": "code",
   "execution_count": 10,
   "outputs": [
    {
     "name": "stdout",
     "output_type": "stream",
     "text": [
      "Median of Posts per User: 11.0\n"
     ]
    }
   ],
   "source": [
    "print(f\"Median of Posts per User: {np.median(post_counts)}\")"
   ],
   "metadata": {
    "collapsed": false
   }
  },
  {
   "cell_type": "code",
   "execution_count": 13,
   "outputs": [
    {
     "name": "stdout",
     "output_type": "stream",
     "text": [
      "mean of Posts per User: 26.276859504132233\n"
     ]
    }
   ],
   "source": [
    "print(f\"Mean of Posts per User: {np.mean(post_counts)}\")"
   ],
   "metadata": {
    "collapsed": false
   }
  },
  {
   "cell_type": "code",
   "execution_count": 15,
   "outputs": [
    {
     "name": "stdout",
     "output_type": "stream",
     "text": [
      "New dataset size: 46061\n"
     ]
    },
    {
     "name": "stderr",
     "output_type": "stream",
     "text": [
      "C:\\Users\\wang-\\AppData\\Local\\Temp\\ipykernel_17756\\2978906641.py:3: DeprecationWarning: DataFrameGroupBy.apply operated on the grouping columns. This behavior is deprecated, and in a future version of pandas the grouping columns will be excluded from the operation. Either pass `include_groups=False` to exclude the groupings or explicitly select the grouping columns after groupby to silence this warning.\n",
      "  df_resampled = df.groupby('author_ID').apply(\n"
     ]
    }
   ],
   "source": [
    "# Resample users with more than 95th percentile posts\n",
    "max_posts = int(percentile_95)\n",
    "df_resampled = df.groupby('author_ID').apply(\n",
    "    lambda x: x.sample(n=max_posts, random_state=42) if len(x) > max_posts else x\n",
    ").reset_index(drop=True)\n",
    "\n",
    "print(f\"New dataset size: {len(df_resampled)}\")"
   ],
   "metadata": {
    "collapsed": false
   }
  },
  {
   "cell_type": "code",
   "execution_count": 16,
   "outputs": [
    {
     "data": {
      "text/plain": "   author_ID                                               post  \\\n0  t2_103jrs  Music for plants!! Wow, don’t take her for gra...   \n1  t2_103jrs  other perspectives, even in fiction. Children ...   \n2  t2_103pns  You say that like people aren't already cogs i...   \n3  t2_103pns  for who we got. I WILL say this is probably wh...   \n4  t2_103pns  as loud with Eagles chants. Not sure about the...   \n\n  political_leaning  \n0              left  \n1              left  \n2             right  \n3             right  \n4             right  ",
      "text/html": "<div>\n<style scoped>\n    .dataframe tbody tr th:only-of-type {\n        vertical-align: middle;\n    }\n\n    .dataframe tbody tr th {\n        vertical-align: top;\n    }\n\n    .dataframe thead th {\n        text-align: right;\n    }\n</style>\n<table border=\"1\" class=\"dataframe\">\n  <thead>\n    <tr style=\"text-align: right;\">\n      <th></th>\n      <th>author_ID</th>\n      <th>post</th>\n      <th>political_leaning</th>\n    </tr>\n  </thead>\n  <tbody>\n    <tr>\n      <th>0</th>\n      <td>t2_103jrs</td>\n      <td>Music for plants!! Wow, don’t take her for gra...</td>\n      <td>left</td>\n    </tr>\n    <tr>\n      <th>1</th>\n      <td>t2_103jrs</td>\n      <td>other perspectives, even in fiction. Children ...</td>\n      <td>left</td>\n    </tr>\n    <tr>\n      <th>2</th>\n      <td>t2_103pns</td>\n      <td>You say that like people aren't already cogs i...</td>\n      <td>right</td>\n    </tr>\n    <tr>\n      <th>3</th>\n      <td>t2_103pns</td>\n      <td>for who we got. I WILL say this is probably wh...</td>\n      <td>right</td>\n    </tr>\n    <tr>\n      <th>4</th>\n      <td>t2_103pns</td>\n      <td>as loud with Eagles chants. Not sure about the...</td>\n      <td>right</td>\n    </tr>\n  </tbody>\n</table>\n</div>"
     },
     "execution_count": 16,
     "metadata": {},
     "output_type": "execute_result"
    }
   ],
   "source": [
    "df_resampled.head()"
   ],
   "metadata": {
    "collapsed": false
   }
  },
  {
   "cell_type": "code",
   "execution_count": 19,
   "outputs": [
    {
     "name": "stdout",
     "output_type": "stream",
     "text": [
      "political_leaning\n",
      "center    0.333333\n",
      "left      0.333333\n",
      "right     0.333333\n",
      "Name: proportion, dtype: float64\n",
      "Balanced Dataset Size: 36876\n"
     ]
    },
    {
     "name": "stderr",
     "output_type": "stream",
     "text": [
      "C:\\Users\\wang-\\AppData\\Local\\Temp\\ipykernel_17756\\2931522423.py:5: DeprecationWarning: DataFrameGroupBy.apply operated on the grouping columns. This behavior is deprecated, and in a future version of pandas the grouping columns will be excluded from the operation. Either pass `include_groups=False` to exclude the groupings or explicitly select the grouping columns after groupby to silence this warning.\n",
      "  balanced_df = grouped.apply(lambda x: x.sample(n=min_size, random_state=42)).reset_index(drop=True)\n"
     ]
    }
   ],
   "source": [
    "grouped = df_resampled.groupby('political_leaning')\n",
    "min_size = min(grouped.size())\n",
    "\n",
    "# Sample equal number of posts from each group (33% each)\n",
    "balanced_df = grouped.apply(lambda x: x.sample(n=min_size, random_state=42)).reset_index(drop=True)\n",
    "\n",
    "# Check distribution\n",
    "print(balanced_df['political_leaning'].value_counts(normalize=True))\n",
    "print(f\"Balanced Dataset Size: {len(balanced_df)}\")"
   ],
   "metadata": {
    "collapsed": false
   }
  },
  {
   "cell_type": "code",
   "execution_count": 21,
   "outputs": [
    {
     "name": "stdout",
     "output_type": "stream",
     "text": [
      "political_leaning\n",
      "center    0.333333\n",
      "left      0.333333\n",
      "right     0.333333\n",
      "Name: proportion, dtype: float64\n",
      "Oversampled Dataset Size: 36876\n"
     ]
    },
    {
     "name": "stderr",
     "output_type": "stream",
     "text": [
      "C:\\Users\\wang-\\AppData\\Local\\Temp\\ipykernel_17756\\3459550178.py:2: DeprecationWarning: DataFrameGroupBy.apply operated on the grouping columns. This behavior is deprecated, and in a future version of pandas the grouping columns will be excluded from the operation. Either pass `include_groups=False` to exclude the groupings or explicitly select the grouping columns after groupby to silence this warning.\n",
      "  oversampled_df = grouped.apply(lambda x: x.sample(n=min_size, replace=True, random_state=42)).reset_index(drop=True)\n"
     ]
    }
   ],
   "source": [
    "# Oversampling smaller groups\n",
    "oversampled_df = grouped.apply(lambda x: x.sample(n=min_size, replace=True, random_state=42)).reset_index(drop=True)\n",
    "print(oversampled_df['political_leaning'].value_counts(normalize=True))\n",
    "print(f\"Oversampled Dataset Size: {len(oversampled_df)}\")"
   ],
   "metadata": {
    "collapsed": false
   }
  },
  {
   "cell_type": "code",
   "execution_count": null,
   "outputs": [],
   "source": [],
   "metadata": {
    "collapsed": false
   }
  }
 ],
 "metadata": {
  "kernelspec": {
   "display_name": "Python 3",
   "language": "python",
   "name": "python3"
  },
  "language_info": {
   "codemirror_mode": {
    "name": "ipython",
    "version": 2
   },
   "file_extension": ".py",
   "mimetype": "text/x-python",
   "name": "python",
   "nbconvert_exporter": "python",
   "pygments_lexer": "ipython2",
   "version": "2.7.6"
  }
 },
 "nbformat": 4,
 "nbformat_minor": 0
}
