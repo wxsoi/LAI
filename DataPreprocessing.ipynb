{
 "cells": [
  {
   "cell_type": "code",
   "execution_count": 1,
   "metadata": {
    "collapsed": true
   },
   "outputs": [],
   "source": [
    "import numpy as np\n",
    "import pandas as pd\n",
    "import matplotlib.pyplot as plt\n"
   ]
  },
  {
   "cell_type": "code",
   "execution_count": 4,
   "metadata": {
    "collapsed": false
   },
   "outputs": [
    {
     "name": "stdout",
     "output_type": "stream",
     "text": [
      "<class 'pandas.core.frame.DataFrame'>\n",
      "RangeIndex: 57231 entries, 0 to 57230\n",
      "Data columns (total 3 columns):\n",
      " #   Column             Non-Null Count  Dtype \n",
      "---  ------             --------------  ----- \n",
      " 0   author_ID          57231 non-null  object\n",
      " 1   post               57231 non-null  object\n",
      " 2   political_leaning  57231 non-null  object\n",
      "dtypes: object(3)\n",
      "memory usage: 1.3+ MB\n"
     ]
    }
   ],
   "source": [
    "df = pd.read_csv(\"./data/political_leaning.csv\")\n",
    "df.rename(columns={'auhtor_ID': 'author_ID'}, inplace=True)\n",
    "df.info()"
   ]
  },
  {
   "cell_type": "code",
   "execution_count": 5,
   "metadata": {
    "collapsed": false
   },
   "outputs": [
    {
     "name": "stdout",
     "output_type": "stream",
     "text": [
      "political_leaning\n",
      "center    0.440338\n",
      "right     0.304975\n",
      "left      0.254687\n",
      "Name: proportion, dtype: float64\n"
     ]
    }
   ],
   "source": [
    "print(df['political_leaning'].value_counts(normalize=True))"
   ]
  },
  {
   "cell_type": "code",
   "execution_count": 6,
   "metadata": {
    "collapsed": false
   },
   "outputs": [
    {
     "data": {
      "image/png": "[encoded data removed]",
      "text/plain": [
       "<Figure size 1000x600 with 1 Axes>"
      ]
     },
     "metadata": {},
     "output_type": "display_data"
    }
   ],
   "source": [
    "post_counts = df.groupby('author_ID').size().sort_values(ascending=False)\n",
    "plt.figure(figsize=(10, 6))\n",
    "post_counts.plot(kind='bar', color='skyblue', edgecolor='black')\n",
    "plt.title('Number of Posts per User')\n",
    "plt.xlabel('Author ID')\n",
    "plt.ylabel('Number of Posts')\n",
    "plt.xticks(rotation=0)\n",
    "plt.show()"
   ]
  },
  {
   "cell_type": "code",
   "execution_count": 7,
   "metadata": {
    "collapsed": false
   },
   "outputs": [
    {
     "name": "stdout",
     "output_type": "stream",
     "text": [
      "95th Percentile of Posts per User: 97.0\n"
     ]
    }
   ],
   "source": [
    "percentile_95 = np.percentile(post_counts, 95)\n",
    "print(f\"95th Percentile of Posts per User: {percentile_95}\")"
   ]
  },
  {
   "cell_type": "code",
   "execution_count": 8,
   "metadata": {
    "collapsed": false
   },
   "outputs": [
    {
     "name": "stdout",
     "output_type": "stream",
     "text": [
      "Median of Posts per User: 11.0\n"
     ]
    }
   ],
   "source": [
    "print(f\"Median of Posts per User: {np.median(post_counts)}\")"
   ]
  },
  {
   "cell_type": "code",
   "execution_count": 9,
   "metadata": {
    "collapsed": false
   },
   "outputs": [
    {
     "name": "stdout",
     "output_type": "stream",
     "text": [
      "Mean of Posts per User: 26.276859504132233\n"
     ]
    }
   ],
   "source": [
    "print(f\"Mean of Posts per User: {np.mean(post_counts)}\")"
   ]
  },
  {
   "cell_type": "code",
   "execution_count": 10,
   "metadata": {
    "collapsed": false
   },
   "outputs": [
    {
     "name": "stdout",
     "output_type": "stream",
     "text": [
      "New dataset size: 46061\n"
     ]
    },
    {
     "name": "stderr",
     "output_type": "stream",
     "text": [
      "C:\\Users\\arina\\AppData\\Local\\Temp\\ipykernel_10016\\48109501.py:3: DeprecationWarning: DataFrameGroupBy.apply operated on the grouping columns. This behavior is deprecated, and in a future version of pandas the grouping columns will be excluded from the operation. Either pass `include_groups=False` to exclude the groupings or explicitly select the grouping columns after groupby to silence this warning.\n",
      "  df_resampled = df.groupby('author_ID').apply(\n"
     ]
    }
   ],
   "source": [
    "# Resample users with more than 95th percentile posts\n",
    "max_posts = int(percentile_95)\n",
    "df_resampled = df.groupby('author_ID').apply(\n",
    "    lambda x: x.sample(n=max_posts, random_state=42) if len(x) > max_posts else x\n",
    ").reset_index(drop=True)\n",
    "\n",
    "print(f\"New dataset size: {len(df_resampled)}\")"
   ]
  },
  {
   "cell_type": "code",
   "execution_count": 11,
   "metadata": {
    "collapsed": false
   },
   "outputs": [
    {
     "data": {
      "text/html": [
       "<div>\n",
       "<style scoped>\n",
       "    .dataframe tbody tr th:only-of-type {\n",
       "        vertical-align: middle;\n",
       "    }\n",
       "\n",
       "    .dataframe tbody tr th {\n",
       "        vertical-align: top;\n",
       "    }\n",
       "\n",
       "    .dataframe thead th {\n",
       "        text-align: right;\n",
       "    }\n",
       "</style>\n",
       "<table border=\"1\" class=\"dataframe\">\n",
       "  <thead>\n",
       "    <tr style=\"text-align: right;\">\n",
       "      <th></th>\n",
       "      <th>author_ID</th>\n",
       "      <th>post</th>\n",
       "      <th>political_leaning</th>\n",
       "    </tr>\n",
       "  </thead>\n",
       "  <tbody>\n",
       "    <tr>\n",
       "      <th>0</th>\n",
       "      <td>t2_103jrs</td>\n",
       "      <td>Music for plants!! Wow, don’t take her for gra...</td>\n",
       "      <td>left</td>\n",
       "    </tr>\n",
       "    <tr>\n",
       "      <th>1</th>\n",
       "      <td>t2_103jrs</td>\n",
       "      <td>other perspectives, even in fiction. Children ...</td>\n",
       "      <td>left</td>\n",
       "    </tr>\n",
       "    <tr>\n",
       "      <th>2</th>\n",
       "      <td>t2_103pns</td>\n",
       "      <td>You say that like people aren't already cogs i...</td>\n",
       "      <td>right</td>\n",
       "    </tr>\n",
       "    <tr>\n",
       "      <th>3</th>\n",
       "      <td>t2_103pns</td>\n",
       "      <td>for who we got. I WILL say this is probably wh...</td>\n",
       "      <td>right</td>\n",
       "    </tr>\n",
       "    <tr>\n",
       "      <th>4</th>\n",
       "      <td>t2_103pns</td>\n",
       "      <td>as loud with Eagles chants. Not sure about the...</td>\n",
       "      <td>right</td>\n",
       "    </tr>\n",
       "  </tbody>\n",
       "</table>\n",
       "</div>"
      ],
      "text/plain": [
       "   author_ID                                               post  \\\n",
       "0  t2_103jrs  Music for plants!! Wow, don’t take her for gra...   \n",
       "1  t2_103jrs  other perspectives, even in fiction. Children ...   \n",
       "2  t2_103pns  You say that like people aren't already cogs i...   \n",
       "3  t2_103pns  for who we got. I WILL say this is probably wh...   \n",
       "4  t2_103pns  as loud with Eagles chants. Not sure about the...   \n",
       "\n",
       "  political_leaning  \n",
       "0              left  \n",
       "1              left  \n",
       "2             right  \n",
       "3             right  \n",
       "4             right  "
      ]
     },
     "execution_count": 11,
     "metadata": {},
     "output_type": "execute_result"
    }
   ],
   "source": [
    "df_resampled.head()"
   ]
  },
  {
   "cell_type": "code",
   "execution_count": 12,
   "metadata": {
    "collapsed": false
   },
   "outputs": [
    {
     "name": "stdout",
     "output_type": "stream",
     "text": [
      "political_leaning\n",
      "center    0.333333\n",
      "left      0.333333\n",
      "right     0.333333\n",
      "Name: proportion, dtype: float64\n",
      "Balanced Dataset Size: 36876\n"
     ]
    },
    {
     "name": "stderr",
     "output_type": "stream",
     "text": [
      "C:\\Users\\arina\\AppData\\Local\\Temp\\ipykernel_10016\\3417977236.py:5: DeprecationWarning: DataFrameGroupBy.apply operated on the grouping columns. This behavior is deprecated, and in a future version of pandas the grouping columns will be excluded from the operation. Either pass `include_groups=False` to exclude the groupings or explicitly select the grouping columns after groupby to silence this warning.\n",
      "  balanced_df = grouped.apply(lambda x: x.sample(n=min_size, random_state=42)).reset_index(drop=True)\n"
     ]
    }
   ],
   "source": [
    "grouped = df_resampled.groupby('political_leaning')\n",
    "min_size = min(grouped.size())\n",
    "\n",
    "# Sample equal number of posts from each group (33% each)\n",
    "balanced_df = grouped.apply(lambda x: x.sample(n=min_size, random_state=42)).reset_index(drop=True)\n",
    "\n",
    "# Check distribution\n",
    "print(balanced_df['political_leaning'].value_counts(normalize=True))\n",
    "print(f\"Balanced Dataset Size: {len(balanced_df)}\")"
   ]
  },
  {
   "cell_type": "code",
   "execution_count": 13,
   "metadata": {
    "collapsed": false
   },
   "outputs": [
    {
     "name": "stdout",
     "output_type": "stream",
     "text": [
      "political_leaning\n",
      "center    0.333333\n",
      "left      0.333333\n",
      "right     0.333333\n",
      "Name: proportion, dtype: float64\n",
      "Oversampled Dataset Size: 36876\n"
     ]
    },
    {
     "name": "stderr",
     "output_type": "stream",
     "text": [
      "C:\\Users\\arina\\AppData\\Local\\Temp\\ipykernel_10016\\52194022.py:2: DeprecationWarning: DataFrameGroupBy.apply operated on the grouping columns. This behavior is deprecated, and in a future version of pandas the grouping columns will be excluded from the operation. Either pass `include_groups=False` to exclude the groupings or explicitly select the grouping columns after groupby to silence this warning.\n",
      "  oversampled_df = grouped.apply(lambda x: x.sample(n=min_size, replace=True, random_state=42)).reset_index(drop=True)\n"
     ]
    }
   ],
   "source": [
    "# Oversampling smaller groups\n",
    "oversampled_df = grouped.apply(lambda x: x.sample(n=min_size, replace=True, random_state=42)).reset_index(drop=True)\n",
    "print(oversampled_df['political_leaning'].value_counts(normalize=True))\n",
    "print(f\"Oversampled Dataset Size: {len(oversampled_df)}\")"
   ]
  },
  {
   "cell_type": "code",
   "execution_count": 14,
   "metadata": {
    "collapsed": false
   },
   "outputs": [
    {
     "data": {
      "text/html": [
       "<div>\n",
       "<style scoped>\n",
       "    .dataframe tbody tr th:only-of-type {\n",
       "        vertical-align: middle;\n",
       "    }\n",
       "\n",
       "    .dataframe tbody tr th {\n",
       "        vertical-align: top;\n",
       "    }\n",
       "\n",
       "    .dataframe thead th {\n",
       "        text-align: right;\n",
       "    }\n",
       "</style>\n",
       "<table border=\"1\" class=\"dataframe\">\n",
       "  <thead>\n",
       "    <tr style=\"text-align: right;\">\n",
       "      <th></th>\n",
       "      <th>author_ID</th>\n",
       "      <th>post</th>\n",
       "      <th>political_leaning</th>\n",
       "    </tr>\n",
       "  </thead>\n",
       "  <tbody>\n",
       "    <tr>\n",
       "      <th>0</th>\n",
       "      <td>t2_kj8twzq5</td>\n",
       "      <td>dog (pic on my profile). Longer hair but other...</td>\n",
       "      <td>center</td>\n",
       "    </tr>\n",
       "    <tr>\n",
       "      <th>1</th>\n",
       "      <td>t2_1404zt</td>\n",
       "      <td>a skyscraper is probably gonna be mostly concr...</td>\n",
       "      <td>center</td>\n",
       "    </tr>\n",
       "    <tr>\n",
       "      <th>2</th>\n",
       "      <td>t2_4erzxbrz</td>\n",
       "      <td>intentionally wash your ass are Poseidon's fre...</td>\n",
       "      <td>center</td>\n",
       "    </tr>\n",
       "    <tr>\n",
       "      <th>3</th>\n",
       "      <td>t2_ccx3o6</td>\n",
       "      <td>you will struggle. Still Jungle is a very simi...</td>\n",
       "      <td>center</td>\n",
       "    </tr>\n",
       "    <tr>\n",
       "      <th>4</th>\n",
       "      <td>t2_b19hyjws</td>\n",
       "      <td>kitlesini sevmezdim ama kral adammış Genj adam...</td>\n",
       "      <td>center</td>\n",
       "    </tr>\n",
       "    <tr>\n",
       "      <th>...</th>\n",
       "      <td>...</td>\n",
       "      <td>...</td>\n",
       "      <td>...</td>\n",
       "    </tr>\n",
       "    <tr>\n",
       "      <th>36871</th>\n",
       "      <td>t2_3o8ve4o5</td>\n",
       "      <td>roll again I'm sure. Calf yeah. He just sunk N...</td>\n",
       "      <td>right</td>\n",
       "    </tr>\n",
       "    <tr>\n",
       "      <th>36872</th>\n",
       "      <td>t2_27cg61x7</td>\n",
       "      <td>PATE WILL BE THERE!!! Beautiful. My Mom when I...</td>\n",
       "      <td>right</td>\n",
       "    </tr>\n",
       "    <tr>\n",
       "      <th>36873</th>\n",
       "      <td>t2_f6xmwek2</td>\n",
       "      <td>been to some serious shitholes, because i live...</td>\n",
       "      <td>right</td>\n",
       "    </tr>\n",
       "    <tr>\n",
       "      <th>36874</th>\n",
       "      <td>t2_4m0x1x</td>\n",
       "      <td>neighbors, give the middle finger to the gover...</td>\n",
       "      <td>right</td>\n",
       "    </tr>\n",
       "    <tr>\n",
       "      <th>36875</th>\n",
       "      <td>t2_1jo4h252</td>\n",
       "      <td>70. No music required. I'd like to hear this e...</td>\n",
       "      <td>right</td>\n",
       "    </tr>\n",
       "  </tbody>\n",
       "</table>\n",
       "<p>36876 rows × 3 columns</p>\n",
       "</div>"
      ],
      "text/plain": [
       "         author_ID                                               post  \\\n",
       "0      t2_kj8twzq5  dog (pic on my profile). Longer hair but other...   \n",
       "1        t2_1404zt  a skyscraper is probably gonna be mostly concr...   \n",
       "2      t2_4erzxbrz  intentionally wash your ass are Poseidon's fre...   \n",
       "3        t2_ccx3o6  you will struggle. Still Jungle is a very simi...   \n",
       "4      t2_b19hyjws  kitlesini sevmezdim ama kral adammış Genj adam...   \n",
       "...            ...                                                ...   \n",
       "36871  t2_3o8ve4o5  roll again I'm sure. Calf yeah. He just sunk N...   \n",
       "36872  t2_27cg61x7  PATE WILL BE THERE!!! Beautiful. My Mom when I...   \n",
       "36873  t2_f6xmwek2  been to some serious shitholes, because i live...   \n",
       "36874    t2_4m0x1x  neighbors, give the middle finger to the gover...   \n",
       "36875  t2_1jo4h252  70. No music required. I'd like to hear this e...   \n",
       "\n",
       "      political_leaning  \n",
       "0                center  \n",
       "1                center  \n",
       "2                center  \n",
       "3                center  \n",
       "4                center  \n",
       "...                 ...  \n",
       "36871             right  \n",
       "36872             right  \n",
       "36873             right  \n",
       "36874             right  \n",
       "36875             right  \n",
       "\n",
       "[36876 rows x 3 columns]"
      ]
     },
     "execution_count": 14,
     "metadata": {},
     "output_type": "execute_result"
    }
   ],
   "source": [
    "oversampled_df"
   ]
  },
  {
   "cell_type": "code",
   "execution_count": 15,
   "metadata": {},
   "outputs": [],
   "source": [
    "oversampled_df.to_csv('sample.csv', index=False)"
   ]
  }
 ],
 "metadata": {
  "kernelspec": {
   "display_name": "Python 3",
   "language": "python",
   "name": "python3"
  },
  "language_info": {
   "codemirror_mode": {
    "name": "ipython",
    "version": 3
   },
   "file_extension": ".py",
   "mimetype": "text/x-python",
   "name": "python",
   "nbconvert_exporter": "python",
   "pygments_lexer": "ipython3",
   "version": "3.12.8"
  }
 },
 "nbformat": 4,
 "nbformat_minor": 0
}
